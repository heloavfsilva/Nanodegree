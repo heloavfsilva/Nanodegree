{
 "cells": [
  {
   "cell_type": "markdown",
   "metadata": {
    "slideshow": {
     "slide_type": "slide"
    }
   },
   "source": [
    "# Ford GoBike System Data Exploration\n",
    "## by Heloa Silva"
   ]
  },
  {
   "cell_type": "markdown",
   "metadata": {
    "slideshow": {
     "slide_type": "slide"
    }
   },
   "source": [
    "## Investigation Overview\n",
    "\n",
    "In this investigation, I wanted to look at the characteristics of rides that could be used to understand the customer behavior. The main focus was on the durantion of the rides, user type and the dates which I extracted the month, year and weekday.\n",
    "\n",
    "\n",
    "## Dataset Overview\n",
    "\n",
    "There are information of the first semester of 2018 and 2019, <br>\n",
    "total of 2.064.003 rides in the dataset with 17 features: \n",
    "- duration_sec,           \n",
    "- start_time,            \n",
    "- end_time,              \n",
    "- start_station_id,\n",
    "- start_station_name,       \n",
    "- start_station_latitude,   \n",
    "- start_station_longitude,  \n",
    "- end_station_id, \n",
    "- end_station_name,         \n",
    "- end_station_latitude,     \n",
    "- end_station_longitude,    \n",
    "- bike_id,   \n",
    "- user_type,                \n",
    "- member_birth_year,\n",
    "- member_gender,       \n",
    "- bike_share_for_all_trip,\n",
    "- rental_access_method"
   ]
  },
  {
   "cell_type": "code",
   "execution_count": 1,
   "metadata": {
    "slideshow": {
     "slide_type": "skip"
    }
   },
   "outputs": [],
   "source": [
    "# import all packages and set plots to be embedded inline\n",
    "import numpy as np\n",
    "import pandas as pd\n",
    "import matplotlib.pyplot as plt\n",
    "import seaborn as sb\n",
    "import os\n",
    "import glob\n",
    "\n",
    "%matplotlib inline\n",
    "\n",
    "# suppress warnings from final output\n",
    "import warnings\n",
    "warnings.simplefilter(\"ignore\")\n",
    "\n",
    "# Setting the style of seaborn\n",
    "sb.set(style=\"whitegrid\")"
   ]
  },
  {
   "cell_type": "code",
   "execution_count": 2,
   "metadata": {
    "slideshow": {
     "slide_type": "skip"
    }
   },
   "outputs": [
    {
     "name": "stdout",
     "output_type": "stream",
     "text": [
      "['.ipynb_checkpoints', '201801-fordgobike-tripdata.csv', '201802-fordgobike-tripdata.csv', '201803-fordgobike-tripdata.csv', '201804-fordgobike-tripdata.csv', '201805-fordgobike-tripdata.csv', '201806-fordgobike-tripdata.csv', '201901-fordgobike-tripdata.csv', '201902-fordgobike-tripdata.csv', '201903-fordgobike-tripdata.csv', '201904-fordgobike-tripdata.csv', '201905-baywheels-tripdata.csv', '201906-baywheels-tripdata.csv', 'lift_exploratory_part1.ipynb', 'output_toggle.tpl', 'readme.md', 'slide_deck_template.ipynb', 'temp-plot.html']\n",
      "<class 'pandas.core.frame.DataFrame'>\n",
      "RangeIndex: 2064003 entries, 0 to 2064002\n",
      "Data columns (total 17 columns):\n",
      "duration_sec               int64\n",
      "start_time                 object\n",
      "end_time                   object\n",
      "start_station_id           float64\n",
      "start_station_name         object\n",
      "start_station_latitude     float64\n",
      "start_station_longitude    float64\n",
      "end_station_id             float64\n",
      "end_station_name           object\n",
      "end_station_latitude       float64\n",
      "end_station_longitude      float64\n",
      "bike_id                    int64\n",
      "user_type                  object\n",
      "member_birth_year          float64\n",
      "member_gender              object\n",
      "bike_share_for_all_trip    object\n",
      "rental_access_method       object\n",
      "dtypes: float64(7), int64(2), object(8)\n",
      "memory usage: 267.7+ MB\n"
     ]
    }
   ],
   "source": [
    "# load in the dataset into a pandas dataframe\n",
    "files = os.listdir()\n",
    "print(files)\n",
    "df_consolidated = pd.concat([pd.read_csv(f) for f in glob.glob('*-tripdata.csv')], ignore_index = True, sort=False)\n",
    "df_consolidated.info()"
   ]
  },
  {
   "cell_type": "code",
   "execution_count": 3,
   "metadata": {},
   "outputs": [
    {
     "data": {
      "text/plain": [
       "duration_sec                        int64\n",
       "start_time                 datetime64[ns]\n",
       "end_time                   datetime64[ns]\n",
       "start_station_id                  float64\n",
       "start_station_name                 object\n",
       "start_station_latitude            float64\n",
       "start_station_longitude           float64\n",
       "end_station_id                    float64\n",
       "end_station_name                   object\n",
       "end_station_latitude              float64\n",
       "end_station_longitude             float64\n",
       "bike_id                             int64\n",
       "user_type                          object\n",
       "member_birth_year                 float64\n",
       "member_gender                      object\n",
       "bike_share_for_all_trip            object\n",
       "rental_access_method               object\n",
       "dtype: object"
      ]
     },
     "execution_count": 3,
     "metadata": {},
     "output_type": "execute_result"
    }
   ],
   "source": [
    "# Copy the original dataframe according to the best practices\n",
    "df = df_consolidated.copy()\n",
    "\n",
    "# In order to analyze the months of start and end_time it's necessary to convert them to datetime\n",
    "df['start_time'] = pd.to_datetime(df['start_time'],infer_datetime_format=True, errors='ignore')\n",
    "df['end_time'] = pd.to_datetime(df['end_time'],infer_datetime_format=True, errors='ignore')\n",
    "df.dtypes\n"
   ]
  },
  {
   "cell_type": "code",
   "execution_count": 4,
   "metadata": {},
   "outputs": [
    {
     "data": {
      "text/html": [
       "<div>\n",
       "<style scoped>\n",
       "    .dataframe tbody tr th:only-of-type {\n",
       "        vertical-align: middle;\n",
       "    }\n",
       "\n",
       "    .dataframe tbody tr th {\n",
       "        vertical-align: top;\n",
       "    }\n",
       "\n",
       "    .dataframe thead th {\n",
       "        text-align: right;\n",
       "    }\n",
       "</style>\n",
       "<table border=\"1\" class=\"dataframe\">\n",
       "  <thead>\n",
       "    <tr style=\"text-align: right;\">\n",
       "      <th></th>\n",
       "      <th>duration_sec</th>\n",
       "      <th>start_time</th>\n",
       "      <th>end_time</th>\n",
       "      <th>start_station_id</th>\n",
       "      <th>start_station_name</th>\n",
       "      <th>start_station_latitude</th>\n",
       "      <th>start_station_longitude</th>\n",
       "      <th>end_station_id</th>\n",
       "      <th>end_station_name</th>\n",
       "      <th>end_station_latitude</th>\n",
       "      <th>...</th>\n",
       "      <th>member_gender</th>\n",
       "      <th>bike_share_for_all_trip</th>\n",
       "      <th>rental_access_method</th>\n",
       "      <th>start_time_month</th>\n",
       "      <th>end_time_month</th>\n",
       "      <th>start_time_year</th>\n",
       "      <th>end_time_year</th>\n",
       "      <th>start_time_year_month</th>\n",
       "      <th>start_time_weekday</th>\n",
       "      <th>end_time_weekday</th>\n",
       "    </tr>\n",
       "  </thead>\n",
       "  <tbody>\n",
       "    <tr>\n",
       "      <th>0</th>\n",
       "      <td>75284</td>\n",
       "      <td>2018-01-31 22:52:35.239</td>\n",
       "      <td>2018-02-01 19:47:19.824</td>\n",
       "      <td>120.0</td>\n",
       "      <td>Mission Dolores Park</td>\n",
       "      <td>37.761420</td>\n",
       "      <td>-122.426435</td>\n",
       "      <td>285.0</td>\n",
       "      <td>Webster St at O'Farrell St</td>\n",
       "      <td>37.783521</td>\n",
       "      <td>...</td>\n",
       "      <td>Male</td>\n",
       "      <td>No</td>\n",
       "      <td>NaN</td>\n",
       "      <td>1</td>\n",
       "      <td>2</td>\n",
       "      <td>2018</td>\n",
       "      <td>2018</td>\n",
       "      <td>201801</td>\n",
       "      <td>Wednesday</td>\n",
       "      <td>Thursday</td>\n",
       "    </tr>\n",
       "    <tr>\n",
       "      <th>1</th>\n",
       "      <td>85422</td>\n",
       "      <td>2018-01-31 16:13:34.351</td>\n",
       "      <td>2018-02-01 15:57:17.310</td>\n",
       "      <td>15.0</td>\n",
       "      <td>San Francisco Ferry Building (Harry Bridges Pl...</td>\n",
       "      <td>37.795392</td>\n",
       "      <td>-122.394203</td>\n",
       "      <td>15.0</td>\n",
       "      <td>San Francisco Ferry Building (Harry Bridges Pl...</td>\n",
       "      <td>37.795392</td>\n",
       "      <td>...</td>\n",
       "      <td>NaN</td>\n",
       "      <td>No</td>\n",
       "      <td>NaN</td>\n",
       "      <td>1</td>\n",
       "      <td>2</td>\n",
       "      <td>2018</td>\n",
       "      <td>2018</td>\n",
       "      <td>201801</td>\n",
       "      <td>Wednesday</td>\n",
       "      <td>Thursday</td>\n",
       "    </tr>\n",
       "    <tr>\n",
       "      <th>2</th>\n",
       "      <td>71576</td>\n",
       "      <td>2018-01-31 14:23:55.889</td>\n",
       "      <td>2018-02-01 10:16:52.116</td>\n",
       "      <td>304.0</td>\n",
       "      <td>Jackson St at 5th St</td>\n",
       "      <td>37.348759</td>\n",
       "      <td>-121.894798</td>\n",
       "      <td>296.0</td>\n",
       "      <td>5th St at Virginia St</td>\n",
       "      <td>37.325998</td>\n",
       "      <td>...</td>\n",
       "      <td>Male</td>\n",
       "      <td>No</td>\n",
       "      <td>NaN</td>\n",
       "      <td>1</td>\n",
       "      <td>2</td>\n",
       "      <td>2018</td>\n",
       "      <td>2018</td>\n",
       "      <td>201801</td>\n",
       "      <td>Wednesday</td>\n",
       "      <td>Thursday</td>\n",
       "    </tr>\n",
       "    <tr>\n",
       "      <th>3</th>\n",
       "      <td>61076</td>\n",
       "      <td>2018-01-31 14:53:23.562</td>\n",
       "      <td>2018-02-01 07:51:20.500</td>\n",
       "      <td>75.0</td>\n",
       "      <td>Market St at Franklin St</td>\n",
       "      <td>37.773793</td>\n",
       "      <td>-122.421239</td>\n",
       "      <td>47.0</td>\n",
       "      <td>4th St at Harrison St</td>\n",
       "      <td>37.780955</td>\n",
       "      <td>...</td>\n",
       "      <td>NaN</td>\n",
       "      <td>No</td>\n",
       "      <td>NaN</td>\n",
       "      <td>1</td>\n",
       "      <td>2</td>\n",
       "      <td>2018</td>\n",
       "      <td>2018</td>\n",
       "      <td>201801</td>\n",
       "      <td>Wednesday</td>\n",
       "      <td>Thursday</td>\n",
       "    </tr>\n",
       "    <tr>\n",
       "      <th>4</th>\n",
       "      <td>39966</td>\n",
       "      <td>2018-01-31 19:52:24.667</td>\n",
       "      <td>2018-02-01 06:58:31.053</td>\n",
       "      <td>74.0</td>\n",
       "      <td>Laguna St at Hayes St</td>\n",
       "      <td>37.776435</td>\n",
       "      <td>-122.426244</td>\n",
       "      <td>19.0</td>\n",
       "      <td>Post St at Kearny St</td>\n",
       "      <td>37.788975</td>\n",
       "      <td>...</td>\n",
       "      <td>Male</td>\n",
       "      <td>No</td>\n",
       "      <td>NaN</td>\n",
       "      <td>1</td>\n",
       "      <td>2</td>\n",
       "      <td>2018</td>\n",
       "      <td>2018</td>\n",
       "      <td>201801</td>\n",
       "      <td>Wednesday</td>\n",
       "      <td>Thursday</td>\n",
       "    </tr>\n",
       "  </tbody>\n",
       "</table>\n",
       "<p>5 rows × 24 columns</p>\n",
       "</div>"
      ],
      "text/plain": [
       "   duration_sec              start_time                end_time  \\\n",
       "0         75284 2018-01-31 22:52:35.239 2018-02-01 19:47:19.824   \n",
       "1         85422 2018-01-31 16:13:34.351 2018-02-01 15:57:17.310   \n",
       "2         71576 2018-01-31 14:23:55.889 2018-02-01 10:16:52.116   \n",
       "3         61076 2018-01-31 14:53:23.562 2018-02-01 07:51:20.500   \n",
       "4         39966 2018-01-31 19:52:24.667 2018-02-01 06:58:31.053   \n",
       "\n",
       "   start_station_id                                 start_station_name  \\\n",
       "0             120.0                               Mission Dolores Park   \n",
       "1              15.0  San Francisco Ferry Building (Harry Bridges Pl...   \n",
       "2             304.0                               Jackson St at 5th St   \n",
       "3              75.0                           Market St at Franklin St   \n",
       "4              74.0                              Laguna St at Hayes St   \n",
       "\n",
       "   start_station_latitude  start_station_longitude  end_station_id  \\\n",
       "0               37.761420              -122.426435           285.0   \n",
       "1               37.795392              -122.394203            15.0   \n",
       "2               37.348759              -121.894798           296.0   \n",
       "3               37.773793              -122.421239            47.0   \n",
       "4               37.776435              -122.426244            19.0   \n",
       "\n",
       "                                    end_station_name  end_station_latitude  \\\n",
       "0                         Webster St at O'Farrell St             37.783521   \n",
       "1  San Francisco Ferry Building (Harry Bridges Pl...             37.795392   \n",
       "2                              5th St at Virginia St             37.325998   \n",
       "3                              4th St at Harrison St             37.780955   \n",
       "4                               Post St at Kearny St             37.788975   \n",
       "\n",
       "         ...         member_gender  bike_share_for_all_trip  \\\n",
       "0        ...                  Male                       No   \n",
       "1        ...                   NaN                       No   \n",
       "2        ...                  Male                       No   \n",
       "3        ...                   NaN                       No   \n",
       "4        ...                  Male                       No   \n",
       "\n",
       "  rental_access_method  start_time_month end_time_month start_time_year  \\\n",
       "0                  NaN                 1              2            2018   \n",
       "1                  NaN                 1              2            2018   \n",
       "2                  NaN                 1              2            2018   \n",
       "3                  NaN                 1              2            2018   \n",
       "4                  NaN                 1              2            2018   \n",
       "\n",
       "  end_time_year  start_time_year_month  start_time_weekday  end_time_weekday  \n",
       "0          2018                 201801           Wednesday          Thursday  \n",
       "1          2018                 201801           Wednesday          Thursday  \n",
       "2          2018                 201801           Wednesday          Thursday  \n",
       "3          2018                 201801           Wednesday          Thursday  \n",
       "4          2018                 201801           Wednesday          Thursday  \n",
       "\n",
       "[5 rows x 24 columns]"
      ]
     },
     "execution_count": 4,
     "metadata": {},
     "output_type": "execute_result"
    }
   ],
   "source": [
    "# Create new columns to take only the <b>month</b> value for each variable\n",
    "df['start_time_month'] = pd.DatetimeIndex(df['start_time']).month\n",
    "df['end_time_month'] = pd.DatetimeIndex(df['end_time']).month\n",
    "df.head()\n",
    "\n",
    "# Create new columns to take only the <b>year</b> value for each variable\n",
    "df['start_time_year'] = pd.DatetimeIndex(df['start_time']).year\n",
    "df['end_time_year'] = pd.DatetimeIndex(df['end_time']).year\n",
    "df.head()\n",
    "\n",
    "# Generate a concatenation column \n",
    "df['start_time_year_month'] =  df['start_time_year'].map(str) +'0'+ df['start_time_month'].map(str)\n",
    "\n",
    "# Get the week day from start and end time\n",
    "df['start_time_weekday'] = pd.DatetimeIndex(df['start_time']).day_name()\n",
    "df['end_time_weekday'] = pd.DatetimeIndex(df['end_time']).day_name()\n",
    "df.head()"
   ]
  },
  {
   "cell_type": "markdown",
   "metadata": {
    "slideshow": {
     "slide_type": "notes"
    }
   },
   "source": [
    "> Note that the above cells have been set as \"Skip\"-type slides. That means\n",
    "that when the notebook is rendered as http slides, those cells won't show up."
   ]
  },
  {
   "cell_type": "markdown",
   "metadata": {
    "slideshow": {
     "slide_type": "slide"
    }
   },
   "source": [
    "## Share of User Type\n",
    "\n",
    "In the pie chart we can notice that user type <i>Subscriber</i> has the bigger share of the rides. <br>\n",
    "Plan to investigate further if the average of duration it's also higher for the user type <i>Subscriber</i>."
   ]
  },
  {
   "cell_type": "code",
   "execution_count": 5,
   "metadata": {
    "slideshow": {
     "slide_type": "subslide"
    }
   },
   "outputs": [
    {
     "data": {
      "image/png": "[encoded data removed]",
      "text/plain": [
       "<Figure size 432x288 with 1 Axes>"
      ]
     },
     "metadata": {},
     "output_type": "display_data"
    }
   ],
   "source": [
    "# code for the pie chart using user_type variable\n",
    "sorted_counts = df['user_type'].value_counts()\n",
    "\n",
    "plt.xlabel('User Type')\n",
    "plt.title('Share of User Type')\n",
    "plt.pie(sorted_counts, labels = sorted_counts.index, startangle = 90,\n",
    "        counterclock = False)\n",
    "plt.show();"
   ]
  },
  {
   "cell_type": "markdown",
   "metadata": {
    "collapsed": true,
    "slideshow": {
     "slide_type": "slide"
    }
   },
   "source": [
    "## Average of Rides per User Type\n",
    "\n",
    "Although the user type <i>Subscriber</i> has the bigger share of the rides, <br>\n",
    "analyzing this chart we can notice that the <i>Customers</i> taken the most rides."
   ]
  },
  {
   "cell_type": "code",
   "execution_count": 8,
   "metadata": {
    "slideshow": {
     "slide_type": "subslide"
    }
   },
   "outputs": [
    {
     "data": {
      "image/png": "[encoded data removed]",
      "text/plain": [
       "<Figure size 432x288 with 1 Axes>"
      ]
     },
     "metadata": {
      "needs_background": "light"
     },
     "output_type": "display_data"
    }
   ],
   "source": [
    "# code for the bar chart using user_type with the duration variable\n",
    "sb.barplot(data = df, x = 'user_type', y = 'duration_sec')\n",
    "plt.ylabel('Duration')\n",
    "plt.xlabel('User Type')\n",
    "plt.title('Quantity of rides per User Type');"
   ]
  },
  {
   "cell_type": "markdown",
   "metadata": {
    "slideshow": {
     "slide_type": "slide"
    }
   },
   "source": [
    "## Drill Down of User Type per Month\n",
    "\n",
    "When we drill down the rides for user type into the months <br>\n",
    "we can see that the user type <i>Customer</i> has the higher quantity of seconds."
   ]
  },
  {
   "cell_type": "code",
   "execution_count": 7,
   "metadata": {
    "scrolled": true,
    "slideshow": {
     "slide_type": "subslide"
    }
   },
   "outputs": [
    {
     "data": {
      "image/png": "[encoded data removed]",
      "text/plain": [
       "<Figure size 432x288 with 1 Axes>"
      ]
     },
     "metadata": {
      "needs_background": "light"
     },
     "output_type": "display_data"
    }
   ],
   "source": [
    "# code for the bar chart using user_type with the duration variable\n",
    "ax = sb.pointplot(data = df, x = 'start_time_year_month', y = 'duration_sec', hue = 'user_type',\n",
    "                  dodge = 0.3, linestyles = \"\", palette='GnBu_d')\n",
    "ax.legend(title = 'Ride Duration per Month and Year')\n",
    "plt.ylabel('Duration')\n",
    "plt.xlabel('Year & Month')\n",
    "plt.xticks(rotation = 45);"
   ]
  },
  {
   "cell_type": "markdown",
   "metadata": {
    "slideshow": {
     "slide_type": "notes"
    }
   },
   "source": [
    "> Once you're ready to finish your presentation, check your output by using\n",
    "nbconvert to export the notebook and set up a server for the slides. From the\n",
    "terminal or command line, use the following expression:\n",
    "> > `jupyter nbconvert <file_name>.ipynb --to slides --post serve --template output_toggle`\n",
    "\n",
    "> This should open a tab in your web browser where you can scroll through your\n",
    "presentation. Sub-slides can be accessed by pressing 'down' when viewing its parent\n",
    "slide. Make sure you remove all of the quote-formatted guide notes like this one\n",
    "before you finish your presentation!"
   ]
  },
  {
   "cell_type": "code",
   "execution_count": null,
   "metadata": {},
   "outputs": [],
   "source": []
  }
 ],
 "metadata": {
  "celltoolbar": "Slideshow",
  "kernelspec": {
   "display_name": "Python 3",
   "language": "python",
   "name": "python3"
  },
  "language_info": {
   "codemirror_mode": {
    "name": "ipython",
    "version": 3
   },
   "file_extension": ".py",
   "mimetype": "text/x-python",
   "name": "python",
   "nbconvert_exporter": "python",
   "pygments_lexer": "ipython3",
   "version": "3.7.3"
  }
 },
 "nbformat": 4,
 "nbformat_minor": 2
}
